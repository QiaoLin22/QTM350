{
  "nbformat": 4,
  "nbformat_minor": 0,
  "metadata": {
    "colab": {
      "name": "QTM350 HW2.ipynb",
      "provenance": [],
      "collapsed_sections": [],
      "toc_visible": true
    },
    "kernelspec": {
      "name": "python3",
      "display_name": "Python 3"
    }
  },
  "cells": [
    {
      "cell_type": "markdown",
      "metadata": {
        "id": "dJAwQbooerlE",
        "colab_type": "text"
      },
      "source": [
        "##QTM350 HW2 Sizhe Ren & Qiao Lin\n",
        "#Introducing some fundamental methods from classic SKlearn package\n",
        "What is SKlearn? A machine learning package based on  NumPy, SciPy, and matplotlib. Now we are going to introduce this package to you by showing you a  Decision Tree based classification algorithm provide by Sklearn package.\n",
        "\n"
      ]
    },
    {
      "cell_type": "markdown",
      "metadata": {
        "id": "s5GrbIdjfGED",
        "colab_type": "text"
      },
      "source": [
        "Installing the package"
      ]
    },
    {
      "cell_type": "code",
      "metadata": {
        "id": "c36FuZ_pS1QG",
        "colab_type": "code",
        "colab": {}
      },
      "source": [
        "pip install -U scikit-learn"
      ],
      "execution_count": 0,
      "outputs": []
    },
    {
      "cell_type": "markdown",
      "metadata": {
        "id": "2g46YDYgfQ3T",
        "colab_type": "text"
      },
      "source": [
        "We are using the default dataset iris imbedded in this package. The dataset itself is fairly simple: each tuple includes four numerical values. Our job is to classify different kinds of iris flower, Iris Setosa, Iris Versicolour and Iris Virginica by these four attributes. Each attribute corresponds to sepal length, sepal width, petal length and petal width. "
      ]
    },
    {
      "cell_type": "code",
      "metadata": {
        "id": "2LzG3ZxqRF9-",
        "colab_type": "code",
        "colab": {}
      },
      "source": [
        "from  sklearn import datasets\n",
        "iris = datasets.load_iris()\n",
        "x = iris.data\n",
        "y = iris.target"
      ],
      "execution_count": 0,
      "outputs": []
    },
    {
      "cell_type": "markdown",
      "metadata": {
        "id": "_5IjVmPoR1Em",
        "colab_type": "text"
      },
      "source": [
        "Splitting the dataset:\n",
        "\n",
        "The iris dataset is provided by sklearn so we can download it directly from the package. Then we use the function train_test_split provided by model_selection package to separate our data into training data and test data. This function acceipt a parameter called test_size which specify the size of testset. Here we set it to 0.5 so that train set and testset are equally separated."
      ]
    },
    {
      "cell_type": "code",
      "metadata": {
        "id": "WJyTrKlPR4Zr",
        "colab_type": "code",
        "colab": {}
      },
      "source": [
        "from sklearn.model_selection import train_test_split\n",
        "x_train,x_test,y_train,y_test=train_test_split(x,y,test_size=.5)"
      ],
      "execution_count": 0,
      "outputs": []
    },
    {
      "cell_type": "markdown",
      "metadata": {
        "id": "8oFp4ZDmR8XO",
        "colab_type": "text"
      },
      "source": [
        "Build the model:\n",
        "\n",
        "To use the model classifier provided by Sklearn, we import the tree classifier. This is a Decision tree based classifier that should do a good work classifying different iris species based on features. We also tried another classifier based on KNN which should also do the work. We want to compare the result later."
      ]
    },
    {
      "cell_type": "code",
      "metadata": {
        "id": "GoOk-u4pSJGU",
        "colab_type": "code",
        "colab": {}
      },
      "source": [
        "from sklearn import tree\n",
        "classifier1=tree.DecisionTreeClassifier()"
      ],
      "execution_count": 0,
      "outputs": []
    },
    {
      "cell_type": "code",
      "metadata": {
        "id": "Cwp_YetISLc1",
        "colab_type": "code",
        "colab": {}
      },
      "source": [
        "from sklearn import neighbors\n",
        "classifier2=neighbors.KNeighborsClassifier()"
      ],
      "execution_count": 0,
      "outputs": []
    },
    {
      "cell_type": "markdown",
      "metadata": {
        "id": "G4Ighw4iSPQJ",
        "colab_type": "text"
      },
      "source": [
        "Train the Model.\n",
        "\n",
        "The fit function here is provided by Sklearn, it trains the training data according to the classifiers. For example, in the code below the training data is first trained with Decision Tree based model and then trained with KNN based model. Now we have completed the training process using Sklearn provided packages."
      ]
    },
    {
      "cell_type": "code",
      "metadata": {
        "id": "GIVvQ79kSR4O",
        "colab_type": "code",
        "colab": {}
      },
      "source": [
        "classifier1.fit(x_train,y_train)"
      ],
      "execution_count": 0,
      "outputs": []
    },
    {
      "cell_type": "code",
      "metadata": {
        "id": "eWfU48F1epb5",
        "colab_type": "code",
        "colab": {}
      },
      "source": [
        "classifier2.fit(x_train,y_train)"
      ],
      "execution_count": 0,
      "outputs": []
    },
    {
      "cell_type": "markdown",
      "metadata": {
        "id": "8kCu7-__STkZ",
        "colab_type": "text"
      },
      "source": [
        "Make predictions:\n",
        "\n",
        "The predict function is also provided by Sklearn. It makes prediction based on data in x_test. Here, for each data in testset, this function make a prediction of its iris species based on features and model and save the predictions into a list called predictions.\n",
        "\n",
        "Then we use another package provided by sklearn.metrics called accuracy_score. This function compares each guessing resulting saved in predictions with the true value in y_test and see how many of them are predicted correctly. The output is the percentage of correctly matching data."
      ]
    },
    {
      "cell_type": "code",
      "metadata": {
        "id": "1Osv3Fb9SVP0",
        "colab_type": "code",
        "outputId": "457963e8-ed46-4d17-844d-1a91dde5a7f2",
        "colab": {
          "base_uri": "https://localhost:8080/",
          "height": 34
        }
      },
      "source": [
        "predictions=classifier1.predict(x_test)\n",
        "from sklearn.metrics import accuracy_score\n",
        "print(accuracy_score(y_test,predictions))"
      ],
      "execution_count": 0,
      "outputs": [
        {
          "output_type": "stream",
          "text": [
            "0.9733333333333334\n"
          ],
          "name": "stdout"
        }
      ]
    },
    {
      "cell_type": "code",
      "metadata": {
        "id": "7h73nmDXmHKC",
        "colab_type": "code",
        "colab": {}
      },
      "source": [
        "predictions=classifier2.predict(x_test)\n",
        "from sklearn.metrics import accuracy_score\n",
        "print(accuracy_score(y_test,predictions))"
      ],
      "execution_count": 0,
      "outputs": []
    },
    {
      "cell_type": "markdown",
      "metadata": {
        "id": "i-gUGBTMSeQa",
        "colab_type": "text"
      },
      "source": [
        "Output:\n",
        "\n",
        "The tree based classifier reach an accuracy of 97.33% while the KNN based classifier is 96%. So here the tree based model did a slightly better job on predicting iris species type.\n",
        "\n",
        "All codes and this file can be found on Github:\n",
        "https://github.com/QiaoLin22/QTM350"
      ]
    }
  ]
}